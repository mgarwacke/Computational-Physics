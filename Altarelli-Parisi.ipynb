{
 "cells": [
  {
   "cell_type": "code",
   "execution_count": 84,
   "id": "2e606153-089f-45ed-b207-a854d1a5bc2f",
   "metadata": {
    "tags": []
   },
   "outputs": [],
   "source": [
    "import numpy as np\n",
    "from numpy import linalg\n",
    "\n",
    "def spline(ins,outs): # takes in a data set and returns a piecewise polynomial interpolation\n",
    "    \n",
    "    M = []\n",
    "    aux = [0,0,2,6] # coefficients for the second derivative condition\n",
    "    \n",
    "    for i in range(len(ins)-1): # fills M with left endpoint continuity conditions\n",
    "        row = np.zeros(4*(len(ins)-1))\n",
    "        j = 0\n",
    "        while j < 4:\n",
    "            row[j+4*i] = sorted(ins)[i]**j\n",
    "            j = j+1\n",
    "        M.append(row)\n",
    "    \n",
    "    for i in range(len(ins)-1): # fills M with right endpoint continuity conditions\n",
    "        row = np.zeros(4*(len(ins)-1))\n",
    "        j = 0\n",
    "        while j < 4:\n",
    "            row[j+4*i] = sorted(ins)[i+1]**j\n",
    "            j = j+1\n",
    "        M.append(row)\n",
    "        \n",
    "    for i in range(len(ins)-2): # fills M with first derivative continuity conditions\n",
    "        row = np.zeros(4*(len(ins)-1))\n",
    "        for j in range(4):\n",
    "            row[j+4*i] = j*sorted(ins)[i+1]**(j-1)\n",
    "            row[j+4+4*i] = -j*sorted(ins)[i+1]**(j-1)\n",
    "        M.append(row)\n",
    "        \n",
    "    \n",
    "    for i in range(len(ins)-2): # fills M with second derivative continuity conditions\n",
    "        row = np.zeros(4*(len(ins)-1))\n",
    "        for j in range(4):\n",
    "            row[j+4*i] = aux[j]*sorted(ins)[i+1]**(j-2)\n",
    "            row[j+4+4*i] = -aux[j]*sorted(ins)[i+1]**(j-2)\n",
    "        M.append(row)\n",
    "        \n",
    "    row = np.zeros(4*(len(ins)-1)) # sets the second derivative to zero at the left boundary of the data\n",
    "    row[2] = 2\n",
    "    row[3] = 2*ins[0]\n",
    "    M.append(row)\n",
    "    \n",
    "    row = np.zeros(4*(len(ins)-1)) # sets the second derivative to zero at the right boundary of the data\n",
    "    row[4*(len(ins)-1)-2] = 2\n",
    "    row[4*(len(ins)-1)-1] = 2*sorted(ins)[len(ins)-1]\n",
    "    M.append(row)\n",
    "    \n",
    "    b = [] # constructs the solution vector\n",
    "    for i in range(len(ins)-1):\n",
    "        b = np.append(b,[outs[i],outs[i+1]])\n",
    "    b = np.append(b,np.zeros(4*(len(ins)-1)-2*len(ins)+2))\n",
    "\n",
    "    x = linalg.solve(M,b) # solves the linear equation for the coefficients on the interpolating cubics\n",
    "    \n",
    "    return(x) # the coefficients for the interpolating cubics\n",
    "    \n",
    "def poly(ins,outs,x): # returns the value of the polynomial defined by spline\n",
    "    pos = 0\n",
    "    while x > sorted(ins)[pos] and pos < len(ins)-2:\n",
    "        pos = pos + 1\n",
    "    polypiece = 0 \n",
    "    for i in range(4):\n",
    "        polypiece = polypiece + spline(ins,outs)[4*pos+i]*x**i\n",
    "    \n",
    "    return(polypiece)"
   ]
  },
  {
   "cell_type": "code",
   "execution_count": 89,
   "id": "2005d65e-9adc-49d2-8028-53c99713958c",
   "metadata": {
    "tags": []
   },
   "outputs": [
    {
     "data": {
      "text/plain": [
       "[<matplotlib.lines.Line2D at 0x7f1f7422dc10>]"
      ]
     },
     "execution_count": 89,
     "metadata": {},
     "output_type": "execute_result"
    },
    {
     "data": {
      "image/png": "[encoded data removed]",
      "text/plain": [
       "<Figure size 640x480 with 1 Axes>"
      ]
     },
     "metadata": {},
     "output_type": "display_data"
    }
   ],
   "source": [
    "import matplotlib.pyplot as plt\n",
    "\n",
    "ins = [1,2,3]\n",
    "outs = [1,4,-16]\n",
    "\n",
    "x = np.linspace(sorted(ins)[0],sorted(ins)[len(ins)-1],10)\n",
    "y = np.array([])\n",
    "for i in range(len(x)):\n",
    "    y = np.append(y,[poly(ins,outs,x[i])])\n",
    "\n",
    "fig, ax = plt.subplots()\n",
    "\n",
    "ax.scatter(ins,outs)\n",
    "ax.plot(x,y)\n",
    "\n"
   ]
  },
  {
   "cell_type": "code",
   "execution_count": 81,
   "id": "cd431491-aa4b-4fb8-b958-f11155ffb227",
   "metadata": {
    "tags": []
   },
   "outputs": [
    {
     "name": "stdout",
     "output_type": "stream",
     "text": [
      "[array([1., 1., 1., 1., 0., 0., 0., 0.]), array([0., 0., 0., 0., 1., 2., 4., 8.]), array([1., 2., 4., 8., 0., 0., 0., 0.]), array([ 0.,  0.,  0.,  0.,  1.,  3.,  9., 27.]), array([  0.,   1.,   4.,  12.,   0.,  -1.,  -4., -12.]), array([  0.,   0.,   2.,  12.,   0.,   0.,  -2., -12.]), array([0., 0., 2., 2., 0., 0., 0., 0.]), array([0., 0., 0., 0., 0., 0., 2., 6.])]\n",
      "[1. 4. 4. 9. 0. 0. 0. 0.]\n"
     ]
    },
    {
     "data": {
      "text/plain": [
       "array([-1.25  ,  2.25  , -0.1875,  0.1875, -2.25  ,  3.75  , -0.9375,\n",
       "        0.3125])"
      ]
     },
     "execution_count": 81,
     "metadata": {},
     "output_type": "execute_result"
    }
   ],
   "source": [
    "spline([1,2,3],[1,4,9])"
   ]
  },
  {
   "cell_type": "code",
   "execution_count": null,
   "id": "ada327fb-fe36-43cf-9724-ad6998b30889",
   "metadata": {},
   "outputs": [],
   "source": []
  }
 ],
 "metadata": {
  "kernelspec": {
   "display_name": "Python 3 (ipykernel)",
   "language": "python",
   "name": "python3"
  },
  "language_info": {
   "codemirror_mode": {
    "name": "ipython",
    "version": 3
   },
   "file_extension": ".py",
   "mimetype": "text/x-python",
   "name": "python",
   "nbconvert_exporter": "python",
   "pygments_lexer": "ipython3",
   "version": "3.11.8"
  }
 },
 "nbformat": 4,
 "nbformat_minor": 5
}
