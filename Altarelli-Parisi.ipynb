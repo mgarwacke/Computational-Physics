{
 "cells": [
  {
   "cell_type": "code",
   "execution_count": 1,
   "id": "2e606153-089f-45ed-b207-a854d1a5bc2f",
   "metadata": {
    "tags": []
   },
   "outputs": [],
   "source": [
    "import numpy as np\n",
    "from numpy import linalg\n",
    "\n",
    "def spline(ins,outs): # takes in an ordered data set and returns a piecewise polynomial interpolation\n",
    "    \n",
    "    M = []\n",
    "    aux = [0,0,2,6] # coefficients for the second derivative condition\n",
    "    \n",
    "    for i in range(len(ins)-1): # fills M with left endpoint continuity conditions\n",
    "        row = np.zeros(4*(len(ins)-1))\n",
    "        j = 0\n",
    "        while j < 4:\n",
    "            row[j+4*i] = sorted(ins)[i]**j\n",
    "            j = j+1\n",
    "        M.append(row)\n",
    "    \n",
    "    for i in range(len(ins)-1): # fills M with right endpoint continuity conditions\n",
    "        row = np.zeros(4*(len(ins)-1))\n",
    "        j = 0\n",
    "        while j < 4:\n",
    "            row[j+4*i] = sorted(ins)[i+1]**j\n",
    "            j = j+1\n",
    "        M.append(row)\n",
    "        \n",
    "    for i in range(len(ins)-2): # fills M with first derivative continuity conditions\n",
    "        row = np.zeros(4*(len(ins)-1))\n",
    "        for j in range(4):\n",
    "            row[j+4*i] = j*sorted(ins)[i+1]**(j-1)\n",
    "            row[j+4+4*i] = -j*sorted(ins)[i+1]**(j-1)\n",
    "        M.append(row)\n",
    "        \n",
    "    for i in range(len(ins)-2): # fills M with second derivative continuity conditions\n",
    "        row = np.zeros(4*(len(ins)-1))\n",
    "        for j in range(4):\n",
    "            row[j+4*i] = aux[j]*sorted(ins)[i+1]**(j-2)\n",
    "            row[j+4+4*i] = -aux[j]*sorted(ins)[i+1]**(j-2)\n",
    "        M.append(row)\n",
    "        \n",
    "    row = np.zeros(4*(len(ins)-1)) # sets the second derivative to zero at the left boundary of the data\n",
    "    row[2] = 2\n",
    "    row[3] = 2*ins[0]\n",
    "    M.append(row)\n",
    "    \n",
    "    row = np.zeros(4*(len(ins)-1)) # sets the second derivative to zero at the right boundary of the data\n",
    "    row[4*(len(ins)-1)-2] = 2\n",
    "    row[4*(len(ins)-1)-1] = 2*sorted(ins)[len(ins)-1]\n",
    "    M.append(row)\n",
    "    \n",
    "    b = [] # constructs the solution vector\n",
    "    for i in range(len(ins)-1): # fill with the values at the left ends of the polynomials\n",
    "        b = np.append(b,[outs[i]])\n",
    "    for i in range(len(ins)-1): # fill with the values at the right ends of the polynomials\n",
    "        b = np.append(b,[outs[i+1]])\n",
    "    b = np.append(b,np.zeros(4*(len(ins)-1)-2*(len(ins)-1)))\n",
    "\n",
    "    x = linalg.solve(M,b) # solves the linear equation for the coefficients on the interpolating cubics\n",
    "\n",
    "    return(x) # the coefficients for the interpolating cubics\n",
    "    \n",
    "def poly(ins,outs,x): # returns the value of the polynomial defined by spline\n",
    "    pos = 0 # left enpoint of the interpolating polynomial\n",
    "    flag = False # used to check if\n",
    "    while x >= sorted(ins)[pos] and pos < len(ins)-1: # gives the index pos of the point before x\n",
    "        for i in range(len(ins)): # check if x is in the data\n",
    "            if x == ins[i]:\n",
    "                flag = True\n",
    "                pos = i\n",
    "                break\n",
    "        if flag:\n",
    "            break\n",
    "        pos = pos + 1\n",
    "    if flag:\n",
    "        pass\n",
    "    else:\n",
    "        pos = pos - 1\n",
    "\n",
    "    polypiece = 0 \n",
    "    for i in range(4):\n",
    "        if pos == len(ins)-1:\n",
    "            break\n",
    "        else:\n",
    "            polypiece = polypiece + spline(ins,outs)[4*pos+i]*x**i\n",
    "    \n",
    "    if pos != len(ins)-1:\n",
    "        return polypiece\n",
    "    else:\n",
    "        return outs[len(ins)-1]"
   ]
  },
  {
   "cell_type": "code",
   "execution_count": 10,
   "id": "2005d65e-9adc-49d2-8028-53c99713958c",
   "metadata": {
    "tags": []
   },
   "outputs": [
    {
     "data": {
      "text/plain": [
       "[<matplotlib.lines.Line2D at 0x7f688704d8d0>]"
      ]
     },
     "execution_count": 10,
     "metadata": {},
     "output_type": "execute_result"
    },
    {
     "data": {
      "image/png": "[encoded data removed]",
      "text/plain": [
       "<Figure size 640x480 with 1 Axes>"
      ]
     },
     "metadata": {},
     "output_type": "display_data"
    }
   ],
   "source": [
    "import matplotlib.pyplot as plt\n",
    "\n",
    "ins = [1,2,3,4,5,6,7,8,9]\n",
    "outs = [1,1,1,1,1,1,1.5,1,1]\n",
    "\n",
    "x = np.linspace(sorted(ins)[0],sorted(ins)[len(ins)-1],1000)\n",
    "y = np.array([])\n",
    "for i in range(len(x)):\n",
    "    y = np.append(y,[poly(ins,outs,x[i])])\n",
    "\n",
    "fig, ax = plt.subplots()\n",
    "\n",
    "ax.scatter(ins,outs)\n",
    "ax.plot(x,y)\n",
    "\n"
   ]
  },
  {
   "cell_type": "code",
   "execution_count": null,
   "id": "ada327fb-fe36-43cf-9724-ad6998b30889",
   "metadata": {},
   "outputs": [],
   "source": []
  },
  {
   "cell_type": "code",
   "execution_count": null,
   "id": "18d14b4e-b618-4526-9ec1-4cd244a03396",
   "metadata": {},
   "outputs": [],
   "source": []
  }
 ],
 "metadata": {
  "kernelspec": {
   "display_name": "Python 3 (ipykernel)",
   "language": "python",
   "name": "python3"
  },
  "language_info": {
   "codemirror_mode": {
    "name": "ipython",
    "version": 3
   },
   "file_extension": ".py",
   "mimetype": "text/x-python",
   "name": "python",
   "nbconvert_exporter": "python",
   "pygments_lexer": "ipython3",
   "version": "3.11.8"
  }
 },
 "nbformat": 4,
 "nbformat_minor": 5
}
