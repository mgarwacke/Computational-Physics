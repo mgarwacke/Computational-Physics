{
 "cells": [
  {
   "cell_type": "markdown",
   "id": "30a44910-cb14-4616-9aaf-262a0726c284",
   "metadata": {},
   "source": [
    "# Exercise 1: Pell and rational approximations to the square root of 2.\n",
    "\n",
    "(a) Write a *recursive* function that returns the first ```n``` Pell numbers, defined by the recurrence relation:\n",
    "$$\n",
    "P_n=\n",
    "\\begin{cases}\n",
    "0& \\quad \\text{if $n=0$;}\\\\ \n",
    "1& \\quad \\text{if $n=1$;}\\\\ \n",
    "2 P_{n-1} + P_{n-2} & \\quad \\text{otherwise.}\n",
    "\\end{cases}\n",
    "$$\n",
    "(b) Pell numbers arise in the rational approximation to $\\sqrt{2}$. If two large integers $x$ and $y$ form a solution to the Pell equation:\n",
    "\n",
    "$x^2 - 2 y^2 = \\pm 1$\n",
    "\n",
    "then their ratio $x/y$ provides a close approximatio to $\\sqrt{2}$. The sequence of approximations of this form is:$\\frac{1}{1}, \\frac{3}{2}, \\frac{7}{5}, \\frac{17}{12}, \\frac{41}{29}, \\frac{99}{70}, ...$, where the denominator of each fraction is a Pell number, and the numberator is the sum of a Pell number and its predecessor in the sequence. That is, the solutions have the form:\n",
    "\n",
    "$\\frac{P_{n-1} + P_{n}}{P_n}$.\n",
    "\n",
    "Using your function from part (a), write a function that generates the first m terms in the sequence of approximations to $\\sqrt{2}$. \n",
    "\n",
    "(c) Use the function to calculate the first 20 terms. \n",
    "\n",
    "(d) Compare the 20th approximation with the value you obtain from Python's ```math.sqrt(2)```, *by calculating the fractional error*. \n",
    "\n",
    "[For more details, see relevant Wikipedia entry: https://en.wikipedia.org/wiki/Pell_number]"
   ]
  },
  {
   "cell_type": "markdown",
   "id": "0d5c5480-66f8-4cf3-b0f8-997c8d54bfd5",
   "metadata": {},
   "source": [
    "# Solution\n",
    "\n",
    "(a) \n",
    "To implement the recursion relation, we simply define a function ```pell(n)``` that starts with a list containing $ 0 $, and then fills the list with Pell numbers via a for loop. "
   ]
  },
  {
   "cell_type": "code",
   "execution_count": 42,
   "id": "59242286-b467-4ee5-8672-b6ee734d5316",
   "metadata": {
    "tags": []
   },
   "outputs": [],
   "source": [
    "# used to compare our approximation scheme to the established math module approximation\n",
    "from math import sqrt"
   ]
  },
  {
   "cell_type": "code",
   "execution_count": 43,
   "id": "bab1a7b4-cf77-40af-ac53-d6b3c403914c",
   "metadata": {
    "tags": []
   },
   "outputs": [],
   "source": [
    "# generates a list containing the first n Pell numbers\n",
    "def pell(n):\n",
    "    pells = [0]\n",
    "    a,b = 0,1\n",
    "    for i in range(n-1):\n",
    "        a,b = b,a+2*b\n",
    "        pells.append(a)\n",
    "    return pells"
   ]
  },
  {
   "cell_type": "markdown",
   "id": "68d46317-fa87-4b2a-8c6b-8f27486da3ba",
   "metadata": {},
   "source": [
    "(b) Now that we have access to the Pell numbers via ```pell(n)```, it is easy to generate a list of rational approximations for sqrt(2). We use the same method as in the previous part: start with an empty list and fill it by iterating over some index. This time however, we start the index at 1 to avoid division by zero."
   ]
  },
  {
   "cell_type": "code",
   "execution_count": 22,
   "id": "baf86508-c506-49e4-b761-9858194f5342",
   "metadata": {
    "tags": []
   },
   "outputs": [],
   "source": [
    "# generates a list of the first n approximations to sqrt(2) using the Pell numbers\n",
    "def approx(n):\n",
    "    elements = []\n",
    "    for i in range(1,n+1):\n",
    "        a = (pell(n+1)[i]+pell(n+1)[i-1]) / pell(n+1)[i]\n",
    "        elements.append(a)\n",
    "    return elements"
   ]
  },
  {
   "cell_type": "markdown",
   "id": "ec613655-fa9c-4af7-be92-f276020359cb",
   "metadata": {},
   "source": [
    "(c) To calculate the first twenty approximations is easy: simply call the function we just wrote with 20 as the input."
   ]
  },
  {
   "cell_type": "code",
   "execution_count": 37,
   "id": "412fb48e-2793-47e8-a0a8-4c2a100cccd6",
   "metadata": {
    "tags": []
   },
   "outputs": [
    {
     "data": {
      "text/plain": [
       "[1.0,\n",
       " 1.5,\n",
       " 1.4,\n",
       " 1.4166666666666667,\n",
       " 1.4137931034482758,\n",
       " 1.4142857142857144,\n",
       " 1.4142011834319526,\n",
       " 1.4142156862745099,\n",
       " 1.4142131979695431,\n",
       " 1.4142136248948696,\n",
       " 1.4142135516460548,\n",
       " 1.4142135642135643,\n",
       " 1.4142135620573204,\n",
       " 1.4142135624272734,\n",
       " 1.4142135623637995,\n",
       " 1.4142135623746899,\n",
       " 1.4142135623728214,\n",
       " 1.414213562373142,\n",
       " 1.414213562373087,\n",
       " 1.4142135623730965]"
      ]
     },
     "execution_count": 37,
     "metadata": {},
     "output_type": "execute_result"
    }
   ],
   "source": [
    "approx(20)"
   ]
  },
  {
   "cell_type": "markdown",
   "id": "f2f35f54-0900-4c33-9272-2dd61ce8a8ef",
   "metadata": {},
   "source": [
    "(d) We now implement a function ```err``` that gives the percent error of the $ n $th approximation to ```math.sqrt(2)```."
   ]
  },
  {
   "cell_type": "code",
   "execution_count": 40,
   "id": "f76d7e78-e51c-47aa-b4a0-9949e6f874fd",
   "metadata": {
    "tags": []
   },
   "outputs": [],
   "source": [
    "# Gives the percent error of the nth approximation to sqrt(2)\n",
    "def err(n):\n",
    "    e = 1-approx(n)[n-1]/math.sqrt(2)\n",
    "    return e"
   ]
  },
  {
   "cell_type": "markdown",
   "id": "8ea4079e-dbc3-4e2d-b95d-28f3b2264e7c",
   "metadata": {},
   "source": [
    "Calculating the desired error is as simple as calling the previous function."
   ]
  },
  {
   "cell_type": "code",
   "execution_count": 2,
   "id": "1cf59455-29a4-4b93-beb2-7b3ecdf70e48",
   "metadata": {
    "tags": []
   },
   "outputs": [
    {
     "ename": "NameError",
     "evalue": "name 'err' is not defined",
     "output_type": "error",
     "traceback": [
      "\u001b[0;31m---------------------------------------------------------------------------\u001b[0m",
      "\u001b[0;31mNameError\u001b[0m                                 Traceback (most recent call last)",
      "Cell \u001b[0;32mIn[2], line 1\u001b[0m\n\u001b[0;32m----> 1\u001b[0m \u001b[38;5;28mprint\u001b[39m(\u001b[38;5;124m\"\u001b[39m\u001b[38;5;124mThe percent error of the 20th Pell approximation to the square root of 2 is \u001b[39m\u001b[38;5;124m\"\u001b[39m, \u001b[43merr\u001b[49m(\u001b[38;5;241m20\u001b[39m), \u001b[38;5;124m\"\u001b[39m\u001b[38;5;124m.\u001b[39m\u001b[38;5;124m\"\u001b[39m)\n",
      "\u001b[0;31mNameError\u001b[0m: name 'err' is not defined"
     ]
    }
   ],
   "source": [
    "print(\"The percent error of the 20th Pell approximation to the square root of 2 is \", err(20), \".\")"
   ]
  },
  {
   "cell_type": "code",
   "execution_count": null,
   "id": "4abe5a8c-c8a1-4ec3-9bce-c35a2e72b57c",
   "metadata": {},
   "outputs": [],
   "source": []
  }
 ],
 "metadata": {
  "kernelspec": {
   "display_name": "Python 3 (ipykernel)",
   "language": "python",
   "name": "python3"
  },
  "language_info": {
   "codemirror_mode": {
    "name": "ipython",
    "version": 3
   },
   "file_extension": ".py",
   "mimetype": "text/x-python",
   "name": "python",
   "nbconvert_exporter": "python",
   "pygments_lexer": "ipython3",
   "version": "3.11.7"
  }
 },
 "nbformat": 4,
 "nbformat_minor": 5
}
