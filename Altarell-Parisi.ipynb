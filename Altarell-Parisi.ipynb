{
 "cells": [
  {
   "cell_type": "code",
   "execution_count": 27,
   "id": "d55e87f0-44aa-4256-87ef-31b9ad1ddbe7",
   "metadata": {
    "tags": []
   },
   "outputs": [],
   "source": [
    "import numpy as np\n",
    "\n",
    "def spline(ins,outs): # takes in a data set and returns a piecewise polynomial interpolation\n",
    "    \n",
    "    M = []\n",
    "    aux = [0,0,2,6] # coefficients for the second derivative condition\n",
    "    \n",
    "    for i in range(len(ins)-1): # fills M with left endpoint continuity conditions\n",
    "        row = np.zeros(4*(len(ins)-1))\n",
    "        j = 0\n",
    "        while j < 4:\n",
    "            row[j+4*i] = ins[i]**j\n",
    "            j = j+1\n",
    "        M.append(row)\n",
    "    \n",
    "    for i in range(len(ins)-1): # fills M with right endpoint continuity conditions\n",
    "        row = np.zeros(4*(len(ins)-1))\n",
    "        j = 0\n",
    "        while j < 4:\n",
    "            row[j+4*i] = ins[i+1]**j\n",
    "            j = j+1\n",
    "        M.append(row)\n",
    "        \n",
    "    for i in range(len(ins)-2): # fills M with first derivative continuity conditions\n",
    "        row = np.zeros(4*(len(ins)-1))\n",
    "        for j in range(4):\n",
    "            row[j+4*i] = j*ins[i+1]**(j-1)\n",
    "            row[j+4+4*i] = -j*ins[i+1]**(j-1)\n",
    "        M.append(row)\n",
    "        \n",
    "    \n",
    "    for i in range(len(ins)-2): # fills M with second derivative continuity conditions\n",
    "        row = np.zeros(4*(len(ins)-1))\n",
    "        for j in range(4):\n",
    "            row[j+4*i] = aux[j]*ins[i+1]**(j-2)\n",
    "            row[j+4+4*i] = -aux[j]*ins[i+1]**(j-2)\n",
    "        M.append(row)\n",
    "        \n",
    "    row = np.zeros(4*(len(ins)-1)) # sets the second derivative to zero at the left boundary of the data\n",
    "    row[2] = 2\n",
    "    row[3] = 2*ins[0]\n",
    "    M.append(row)\n",
    "    \n",
    "    row = np.zeros(4*(len(ins)-1)) # sets the second derivative to zero at the right boundary of the data\n",
    "    row[4*(len(ins)-1)-2] = 2\n",
    "    row[4*(len(ins)-1)-1] = 2*ins[len(ins)-1]\n",
    "    M.append(row)\n",
    "    \n",
    "    \n"
   ]
  },
  {
   "cell_type": "code",
   "execution_count": 29,
   "id": "077a371a-9300-4a92-9c87-8b059fd16d36",
   "metadata": {
    "tags": []
   },
   "outputs": [
    {
     "name": "stdout",
     "output_type": "stream",
     "text": [
      "[array([1., 1., 1., 1., 0., 0., 0., 0., 0., 0., 0., 0.]), array([0., 0., 0., 0., 1., 2., 4., 8., 0., 0., 0., 0.]), array([ 0.,  0.,  0.,  0.,  0.,  0.,  0.,  0.,  1.,  3.,  9., 27.]), array([1., 2., 4., 8., 0., 0., 0., 0., 0., 0., 0., 0.]), array([ 0.,  0.,  0.,  0.,  1.,  3.,  9., 27.,  0.,  0.,  0.,  0.]), array([ 0.,  0.,  0.,  0.,  0.,  0.,  0.,  0.,  1.,  4., 16., 64.]), array([  0.,   1.,   4.,  12.,   0.,  -1.,  -4., -12.,   0.,   0.,   0.,\n",
      "         0.]), array([  0.,   0.,   0.,   0.,   0.,   1.,   6.,  27.,   0.,  -1.,  -6.,\n",
      "       -27.]), array([  0.,   0.,   2.,  12.,   0.,   0.,  -2., -12.,   0.,   0.,   0.,\n",
      "         0.]), array([  0.,   0.,   0.,   0.,   0.,   0.,   2.,  18.,   0.,   0.,  -2.,\n",
      "       -18.]), array([0., 0., 2., 2., 0., 0., 0., 0., 0., 0., 0., 0.]), array([0., 0., 0., 0., 0., 0., 0., 0., 0., 0., 2., 8.])]\n"
     ]
    }
   ],
   "source": [
    "ins = [1,2,3,4]\n",
    "outs = [1,2,3,4]\n",
    "\n",
    "print(spline(ins,outs))"
   ]
  },
  {
   "cell_type": "code",
   "execution_count": null,
   "id": "48ae3ecd-7604-4048-96b8-d3a110ddf817",
   "metadata": {},
   "outputs": [],
   "source": []
  }
 ],
 "metadata": {
  "kernelspec": {
   "display_name": "Python 3 (ipykernel)",
   "language": "python",
   "name": "python3"
  },
  "language_info": {
   "codemirror_mode": {
    "name": "ipython",
    "version": 3
   },
   "file_extension": ".py",
   "mimetype": "text/x-python",
   "name": "python",
   "nbconvert_exporter": "python",
   "pygments_lexer": "ipython3",
   "version": "3.11.8"
  }
 },
 "nbformat": 4,
 "nbformat_minor": 5
}
