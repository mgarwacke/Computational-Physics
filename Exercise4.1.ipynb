{
 "cells": [
  {
   "cell_type": "markdown",
   "id": "fdc40624-791e-43c3-af4b-b996643407b0",
   "metadata": {},
   "source": [
    "# Exercise 4.1: The expression for the period $T$ of a *realistic pendulum*, for which the maximum angle of displacement is $\\theta_0$, when $\\theta_0$ is not necessarily small, is given by:\n",
    "\n",
    "$T = \\frac{T_0}{\\pi} \\int_0^{\\theta_0} \\frac{ \\mathrm{d} \\theta } { [\\sin^2 (\\theta_0/2) - \\sin^2 (\\theta/2)]^{1/2}}$,\n",
    "\n",
    "where $T_0$ is the period for small-angle oscillations. \n",
    "\n",
    "By expanding the denominator and integrating it term-by-term, we can obtain a series expansion for the period:\n",
    "\n",
    "$T \\simeq T_0 \\left[ 1 + \\left(\\frac{1}{2}\\right)^2 \\sin^2 \\frac{\\theta_0}{2} + \\left( \\frac{1 \\cdot 3}{2 \\cdot 4}\\right)^2 \\sin^4 \\frac{\\theta_0}{2} + \\left( \\frac{1 \\cdot 3 \\cdot 5}{2 \\cdot 4 \\cdot 6}\\right)^2 \\sin^6 \\frac{\\theta_0}{2} ...\\right]$.\n",
    "\n",
    "The expansion tells us e.g. that an amplitude $\\theta_0 = 80^\\circ$ leads to a 10\\% slowdown of the pendulum relative to the small $\\theta$ result. \n",
    "\n",
    "We will determine the period computationally, without the need for any expansions. \n",
    "\n",
    "(a) Use numerical quadrature to determine the ratio $T/T_0$ for six values of $\\theta_0$ in the interval $[0,\\pi/2]$. Show that you have attained at least four places of accuracy by progressively increasing the number of integration points until changes occur only in the fifth place or beyond. \n",
    "\n",
    "(b) Use the power series to determine $T/T_0$. Continue summing terms until changes in the sum occur only in the fifth place, or beyond. \n",
    "\n",
    "(c) Plot the values you obtained for $T/T_0$ vs. $\\theta_0$ for both the integral and power series solution. \n",
    "\n",
    "BONUS 10%:\n",
    "\n",
    "(d) Use Scipy's ```scipy.integrate.quad``` to perform the integral at the same values. Plot these as well as a third answer."
   ]
  },
  {
   "cell_type": "markdown",
   "id": "200b3b83-3204-45d3-add3-3351c35f93df",
   "metadata": {},
   "source": [
    "## Solution(a)"
   ]
  },
  {
   "cell_type": "markdown",
   "id": "1d1c97d1-f0f8-4563-bb03-4839e2bc14b9",
   "metadata": {},
   "source": [
    "We make use of the ```gauss``` integrator from the lecture to compute the ratio of the periods. I use a list of angles in conjunction with a partial function to accomodate the format of ```gauss```. In order to achieve the right precision, I compare the value of the integral for $n$ sample points to the mean of the integral for $n+10$ and $n+20$ sample points. This approach attempts to minimize \"aritifical precision\" that could arise due to oscillations in the ratio."
   ]
  },
  {
   "cell_type": "code",
   "execution_count": 15,
   "id": "1cf1c7fa-6938-429d-b5c0-61fdbc2e3e30",
   "metadata": {
    "tags": []
   },
   "outputs": [
    {
     "name": "stdout",
     "output_type": "stream",
     "text": [
      "The ratio T/T0 for theta0 = 0.2617993877991494 is  1.0038 . This took 761 function evaluations.\n",
      "The ratio T/T0 for theta0 = 0.39269908169872414 is  1.0092 . This took 763 function evaluations.\n",
      "The ratio T/T0 for theta0 = 0.5235987755982988 is  1.0169 . This took 767 function evaluations.\n",
      "The ratio T/T0 for theta0 = 0.7853981633974483 is  1.0394 . This took 779 function evaluations.\n",
      "The ratio T/T0 for theta0 = 1.0471975511965976 is  1.0726 . This took 796 function evaluations.\n",
      "The ratio T/T0 for theta0 = 1.5707963267948966 is  1.1798 . This took 850 function evaluations.\n"
     ]
    }
   ],
   "source": [
    "import math\n",
    "import scipy # we need scipy for the N-th order Legendre polynomials.\n",
    "from math import pi\n",
    "from functools import partial\n",
    "\n",
    "thetaList = [pi/12,pi/8,pi/6,pi/4,pi/3,pi/2] # large angles from from which T/T0 will be calculated\n",
    "\n",
    "# Let's write a higher-order function that implements N-th order Gaussian quadrature:\n",
    "def gauss(func, a, b, N):\n",
    "    \"\"\"Calculates the numerical integral of a function in the interval a,b using N-th order Gaussian quadrature\"\"\"\n",
    "    # N-th order Gaussian quadrature \n",
    "    # get the weights and points from the scipy special function:\n",
    "    xi, wi = scipy.special.roots_legendre(int(N))\n",
    "    # now use the general formula to get the integral:\n",
    "    integral = 0\n",
    "    for j, wj in enumerate(wi):\n",
    "        # calculate the x value using the xi array:\n",
    "        xj = 0.5*((b-a) * xi[j] + b + a) # transform the xi[j] to the function argument, xj\n",
    "        integral = integral + wj * func(xj)\n",
    "    return (b-a)/2 * integral\n",
    "\n",
    "def f(theta0,theta): # when f is integrated with respect to theta from 0 to theta0, the ratio T/T0 will be obtained\n",
    "    return 1/(pi*(math.sqrt(math.sin(theta0/2)**2-math.sin(theta/2)**2)))\n",
    "\n",
    "result = [] # we will store the ratios in a list\n",
    "for theta0 in thetaList:\n",
    "    runningavg = 0\n",
    "    n = 10\n",
    "    diff = 1\n",
    "    while abs(diff) > 1E-5: # checks that the precision in the ratio is in the 5th decimal by comparing the integral for n points to the average of the integrals for n+10 and n+20 points\n",
    "        n = n + 1 # increments number of points\n",
    "        runningavg = 1/2*(gauss(partial(f,theta0),0,theta0,n+10)+gauss(partial(f,theta0),0,theta0,n+20)) # average of two future results\n",
    "        diff = gauss(partial(f,theta0),0,theta0,n)-runningavg # difference between current result and the average of the next five\n",
    "        #print(diff)\n",
    "    print(\"The ratio T/T0 for theta0 =\", theta0, \"is \", round(gauss(partial(f,theta0),0,theta0,n),4), \". This took\", n, \"function evaluations.\")\n",
    "    result.append(gauss(partial(f,theta0),0,theta0,n))\n",
    "    "
   ]
  },
  {
   "cell_type": "markdown",
   "id": "df6b402b-1828-439a-8e61-5f2b164641f8",
   "metadata": {},
   "source": [
    "## Solution (b)"
   ]
  },
  {
   "cell_type": "markdown",
   "id": "d0934cda-e83c-4a43-b8fc-9387f78a42c0",
   "metadata": {},
   "source": [
    "This is just a straightworward implementation of the above series."
   ]
  },
  {
   "cell_type": "code",
   "execution_count": 3,
   "id": "f9f5d3c5-45cd-46ad-a7c9-e71190cc1ed3",
   "metadata": {
    "tags": []
   },
   "outputs": [
    {
     "name": "stdout",
     "output_type": "stream",
     "text": [
      "The ratio T/T0 for theta0 = 0.2617993877991494 is  1.0043 . This took 3 terms.\n",
      "The ratio T/T0 for theta0 = 0.39269908169872414 is  1.0097 . This took 3 terms.\n",
      "The ratio T/T0 for theta0 = 0.5235987755982988 is  1.0174 . This took 4 terms.\n",
      "The ratio T/T0 for theta0 = 0.7853981633974483 is  1.04 . This took 5 terms.\n",
      "The ratio T/T0 for theta0 = 1.0471975511965976 is  1.0732 . This took 6 terms.\n",
      "The ratio T/T0 for theta0 = 1.5707963267948966 is  1.1803 . This took 11 terms.\n"
     ]
    }
   ],
   "source": [
    "# gives the nth term in the series expansion of the ratio T/T0\n",
    "def term(n,theta0):\n",
    "    oddList = []\n",
    "    evenList = []\n",
    "    # generate the first n evens and first n odds\n",
    "    for i in range(n):\n",
    "        oddList.append(2*i+1) # starts with 1\n",
    "        evenList.append(2*i+2) # starts with 2\n",
    "\n",
    "    # construct the square of the quotient of the product of first n odds with product of first n evens\n",
    "    factor = 1 \n",
    "    for i in range (n):\n",
    "        factor = factor*(oddList[i]/evenList[i])**2\n",
    "\n",
    "    contribution = factor*(math.sin(theta0/2))**(2*n)\n",
    "\n",
    "    return contribution\n",
    "\n",
    "result2 = []\n",
    "for theta0 in thetaList:\n",
    "    sum = 0\n",
    "    i = 0 # keeps track of the term in the series\n",
    "    while term(i,theta0)-term(i+1,theta0) > 1E-5:\n",
    "        sum = sum + term(i,theta0) # add the ith term\n",
    "        i = i+1\n",
    "    print(\"The ratio T/T0 for theta0 =\", theta0, \"is \", round(sum,4), \". This took\", i, \"terms.\")\n",
    "    result.append(sum)"
   ]
  },
  {
   "cell_type": "markdown",
   "id": "038c33a0-1306-4ea4-95d2-3c94ff474f52",
   "metadata": {
    "tags": []
   },
   "source": [
    "## Solution (c)"
   ]
  },
  {
   "cell_type": "code",
   "execution_count": null,
   "id": "d3f0a261-506b-4d9a-b0a7-a218c1156409",
   "metadata": {},
   "outputs": [],
   "source": []
  }
 ],
 "metadata": {
  "kernelspec": {
   "display_name": "Python 3 (ipykernel)",
   "language": "python",
   "name": "python3"
  },
  "language_info": {
   "codemirror_mode": {
    "name": "ipython",
    "version": 3
   },
   "file_extension": ".py",
   "mimetype": "text/x-python",
   "name": "python",
   "nbconvert_exporter": "python",
   "pygments_lexer": "ipython3",
   "version": "3.11.7"
  }
 },
 "nbformat": 4,
 "nbformat_minor": 5
}
