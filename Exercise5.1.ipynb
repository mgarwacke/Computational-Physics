{
 "cells": [
  {
   "cell_type": "markdown",
   "id": "22a26e10-600a-4ae1-938d-262492f9971e",
   "metadata": {},
   "source": [
    "# Exercise 5.1: The Volumes of Hyperspheres\n",
    "\n",
    "An $n$-dimensional sphere ($n$-sphere), also known as an $n$-ball, is the region of space comprising all points within a fixed distance, called the radius, from a given point. \n",
    "\n",
    "In this example we wish to calculate the volume of an $n$-ball with unit radius, centered at the origin, for various values of $n$. \n",
    "\n",
    "For $n=0$ dimensions, the volume is defined to be $V_0 = 1$. Ine one dimension, the volume is simply $V_1 = 2$. \n",
    "\n",
    "To calculate the volumes in higher dimensions, we will use the Monte Carlo integration technique, generalizing the formula we used to obtain an approximation to $\\pi$: \n",
    "\n",
    "\n",
    "$V_n = \\int \\mathrm{d}^n x ~\\theta(1 - \\sum_{i=1}^n x_i^2)$,\n",
    "\n",
    "so for example, the volume of a 2-ball (a circle) is simply:\n",
    "\n",
    "$V_2 = 4 \\int_{0}^1 \\mathrm{d} x_1 \\int_{0}^1 \\mathrm{d} x_2  ~\\theta(1 - x_1^2 - x_2^2)$.\n",
    "\n",
    "We expect this to be = $\\pi$! The procedure to obtain this result was examined in Example 5.4. We will generalize this to $n$ dimensions. \n",
    "\n",
    "(a) Start by calculating the volume of an $3$-dimensional sphere, for which we expect the result $V_3 = \\frac{4}{3} \\pi$: \n",
    "\n",
    "$V_3 = 2^3 \\int_{0}^1 \\mathrm{d} x_1 \\int_{0}^1 \\mathrm{d} x_2 \\int_{0}^1 \\mathrm{d} x_3  ~\\theta(1 - x_1^2 - x_2^2 - x_3^2)$.\n",
    "\n",
    "\n",
    "(b) Generalize your code to handle any number of dimensions, and calculate the volumes of $n$-balls up to $n=30$ using:\n",
    "\n",
    "$V_n = 2^n \\int_{0}^1 \\mathrm{d} x_1 \\int_{0}^1 \\mathrm{d} x_2 \\int_{0}^1 ... \\mathrm{d} x_n ~\\theta(1 - \\sum_{i=1}^n x_i^2)$. \n",
    "\n",
    "(c) Graph the result. \n",
    "\n",
    "BONUS 10%:\n",
    "\n",
    "(d) Add the analytical results to your graph, given for the unit sphere, by:\n",
    "\n",
    "$V_n = \\frac{\\pi^{n/2}}{\\Gamma(\\frac{n}{2}+1)}$, where $\\Gamma$ is the Euler Gamma function. \n",
    "\n",
    "You may use the scipy special function: \n",
    "\n",
    "```scipy.special.gamma``` which represents the $\\Gamma$ function. "
   ]
  },
  {
   "cell_type": "markdown",
   "id": "705a01fa-784b-4d1e-9241-260e22e13ae0",
   "metadata": {},
   "source": [
    "## Solution (a)"
   ]
  },
  {
   "cell_type": "code",
   "execution_count": 12,
   "id": "89ae5cc0-dd8d-407f-9caa-6ae45c724019",
   "metadata": {
    "tags": []
   },
   "outputs": [
    {
     "name": "stdout",
     "output_type": "stream",
     "text": [
      "4.189760000000001\n"
     ]
    }
   ],
   "source": [
    "import random\n",
    "\n",
    "def theta(x,y,z):\n",
    "    if x**2+y**2+z**2 < 1:\n",
    "        return 1\n",
    "    else:\n",
    "        return 0\n",
    "    \n",
    "N = 100000 # number of sample points\n",
    "sum = 0\n",
    "for i in range(N):\n",
    "    x = random.random()\n",
    "    y = random.random()\n",
    "    z = random.random()\n",
    "    sum = sum + theta(x,y,z)\n",
    "    \n",
    "volume = 8/N*sum\n",
    "print(volume)"
   ]
  },
  {
   "cell_type": "markdown",
   "id": "824f2215-0254-4812-af38-a1b5137e76d1",
   "metadata": {},
   "source": [
    "## Solution (b)"
   ]
  },
  {
   "cell_type": "code",
   "execution_count": 17,
   "id": "2385236a-9328-4603-989d-d184f7b4c158",
   "metadata": {
    "tags": []
   },
   "outputs": [
    {
     "name": "stdout",
     "output_type": "stream",
     "text": [
      "[0.7544575910295411, 0.35431810132032915, 0.17113033808877076]\n",
      "0.7240331661997184\n",
      "[0.015257095767789441, 0.18907321425119417, 0.8256749828085741]\n",
      "0.7177206365544846\n",
      "[0.5433587776737897, 0.446310011956792, 0.3295002325593832]\n",
      "0.6030017913047142\n",
      "[0.10078802469898895, 0.01751569487616622, 0.9807503223058568]\n",
      "0.9723362201927609\n",
      "[0.8255596119811011, 0.9345910277914166, 0.8517946958753508]\n",
      "2.280563266083984\n",
      "[0.9280469991939112, 0.6711150616746903, 0.14725775155164678]\n",
      "1.3333515041114934\n",
      "[0.6084231326630181, 0.5318721720436094, 0.040546616848474826]\n",
      "0.6547107438917242\n",
      "[0.20754252142463503, 0.35825629769425205, 0.10583500096593246]\n",
      "0.18262252046634656\n",
      "[0.3152156767915194, 0.7011442773858075, 0.24557800508170236]\n",
      "0.6512727771859105\n",
      "[0.5804501742874765, 0.8506818615002196, 0.4755327562985725]\n",
      "1.286713436628758\n"
     ]
    }
   ],
   "source": [
    "N = 10 # number of sample points\n",
    "\n",
    "def volume(d):\n",
    "    integral = 0\n",
    "    for i in range(N):\n",
    "        coordinates = [] # contains the coordinates of the ith sample point\n",
    "        for j in range(d):\n",
    "            coordinates.append(random.random())\n",
    "        \n",
    "        sum = 0 # sum of squares of coordinates\n",
    "        for xi in coordinates:\n",
    "            term = term + xi**2\n",
    "            \n",
    "        if term < 1:\n",
    "            theta = 1\n",
    "        else:\n",
    "            theta = 0\n",
    "\n",
    "    integra = integral + ()\n",
    "\n",
    "volume(3)"
   ]
  },
  {
   "cell_type": "code",
   "execution_count": null,
   "id": "d2c9f5f9-5aa7-41e9-8636-08e914a2b5d8",
   "metadata": {},
   "outputs": [],
   "source": []
  }
 ],
 "metadata": {
  "kernelspec": {
   "display_name": "Python 3 (ipykernel)",
   "language": "python",
   "name": "python3"
  },
  "language_info": {
   "codemirror_mode": {
    "name": "ipython",
    "version": 3
   },
   "file_extension": ".py",
   "mimetype": "text/x-python",
   "name": "python",
   "nbconvert_exporter": "python",
   "pygments_lexer": "ipython3",
   "version": "3.11.7"
  }
 },
 "nbformat": 4,
 "nbformat_minor": 5
}
