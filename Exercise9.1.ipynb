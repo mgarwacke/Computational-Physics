{
 "cells": [
  {
   "cell_type": "markdown",
   "id": "0a163a89-4614-4b21-ae9a-08880eb1b125",
   "metadata": {},
   "source": [
    "# Exercise 9.1: The Wave Equation in Cylindrical Geometry\n",
    "\n",
    "The wave equation in cylindrical geometry often leads to the eigenvalue problem:\n",
    "\n",
    "$\\left( \\frac{ \\mathrm{d}^2 } { \\mathrm{d} r^2 } + \\frac{1}{r} \\frac{ \\mathrm{d}}{\\mathrm{d} r} \\right) \\Phi(r) = -k^2 \\Phi(r)$,\n",
    "\n",
    "with initial conditions $\\Phi(r=0) = 1$ and $\\Phi(r=1) = 0$. \n",
    "\n",
    "The analytical eigenfunctions are the regular cylindrical Bessel functions of order zero, and the eigenvalues correspond to the zeros of this function: \n",
    "\n",
    "$k_1 = 2.404826$, $k_2 = 5.520078$, $k_3 = 8.653728$, $k_4 = 11.791534$, ...\n",
    "\n",
    "(a) Show that the substitution $\\Phi = r^{-1/2} \\phi$ changes this equation into one for which the Numerov algorithm is appropriate. \n",
    "\n",
    "(b) Modify the code given in Example 9.7 to solve this problem. Compare the numerical eigenvalues with the exact values. Note that you will not be able to start the integration at $r=0$. Try starting at e.g. $r=10^{-13}$, with integration step size $h=10^{-5}$. \n",
    "\n",
    "Note that you should expect $\\mathcal{O}(\\%)$ precision, but not better."
   ]
  },
  {
   "cell_type": "markdown",
   "id": "42f8b47b-b979-48b9-8d25-0912c5de141a",
   "metadata": {},
   "source": [
    "## Solution (a)\n",
    "\n",
    "Consider the substitution $\\Phi\\to r^{-1/2}\\phi$. Then the derivatives become\n",
    "$$\\Phi'(r)=-\\frac{1}{2}r^{-3/2}\\phi(r)+r^{-1/2}\\phi'(r)\\hspace{.5cm}\\Phi''(r)=\\frac{3}{4}r^{-5/2}\\phi(r)-r^{-3/2}\\phi'(r)+r^{-1/2}\\phi''(r),$$\n",
    "and thus the wave equation is\n",
    "$$\\bigg[\\frac{3}{4}r^{-5/2}-r^{-3/2}\\frac{d}{dr}+r^{-1/2}\\frac{d^2}{dr^2}+\\frac{1}{r}\\bigg(-\\frac{1}{2}r^{-3/2}+r^{-1/2}\\frac{d}{dr}\\bigg)\\bigg]\\phi(r)=\\bigg(\\frac{1}{4}r^{-5/2}+r^{-1/2}\\frac{d^2}{dr^2}\\bigg)\\phi(r)=-k^2r^{-1/2}\\phi(r)$$\n",
    "$$\\implies r^{-1/2}\\phi''(r)+\\bigg(\\frac{1}{4}r^{-5/2}+k^2r^{-1/2}\\bigg)\\phi(r)=0\\implies\\boxed{\\phi''(r)+\\bigg(\\frac{1}{4}r^{-2}+k^2\\bigg)\\phi(r)=0}$$"
   ]
  },
  {
   "cell_type": "markdown",
   "id": "966a1a93-8add-45f9-b558-c41796fc058e",
   "metadata": {},
   "source": [
    "## Solution (b)\n",
    "\n",
    "Below we define a root-finder function ```bisect``` and an implementation of the Numerov algorithm ```Numerov```."
   ]
  },
  {
   "cell_type": "code",
   "execution_count": 4,
   "id": "7c60cd57-be16-4073-bcd5-b154f0fab359",
   "metadata": {},
   "outputs": [],
   "source": [
    "import numpy as np\n",
    "from functools import partial"
   ]
  },
  {
   "cell_type": "code",
   "execution_count": 2,
   "id": "c15856d3-2ef0-4952-95d9-1eaabd38eb12",
   "metadata": {},
   "outputs": [],
   "source": [
    "def bisect(func,a,b,prec,N): # searches for a root of func on the interval [a,b] via the midpoint method, and returns the root within precision prec; runs through N iterations\n",
    "    left = a # left end of interval for which the root is searched; initially a\n",
    "    right = b # right end of interval for which the root is searched; initially b\n",
    "    mid = (a+b)/2 # the midpoint of the interval for which the root is searched; initially set as the midpoint of [a,b]\n",
    "    count = 0 # counts the number of iterations\n",
    "    while abs(func(mid)) > prec and count < N:\n",
    "        if np.sign(func(left)) != np.sign(func(mid)): # chooses a new interval to search according to where the function values change sign\n",
    "            left = left\n",
    "            right = mid\n",
    "            mid = (left+right)/2\n",
    "        else:\n",
    "            left = mid\n",
    "            right = right\n",
    "            mid = (left+right)/2\n",
    "        count = count + 1\n",
    "    return mid\n",
    "\n",
    "# Numerov's algorithm (forward)\n",
    "# takes as input the initial conditions y(0) and y'(0) as y0 and yp0\n",
    "# h is the step size, the k-squared term (k2), the S term -- these are FUNCTIONS!\n",
    "# the initial value of the independent variable x0, and the final value xf\n",
    "# returns t,y as the solution arrays\n",
    "def Numerov(k2, S, y0, yp0, h, x0, xf):\n",
    "    \"\"\"Returns the solution to a 2nd-order ODEs of the type: y'' + k^2 y = S(x) via the Numerov algorithm\"\"\"\n",
    "    # the number of steps:\n",
    "    N = int( (xf-x0)/h ) # needs to be an integer\n",
    "    # get y1 via Taylor series:\n",
    "    y1 = y0 + h * yp0\n",
    "    # define the numpy arrays to return\n",
    "    ya = np.zeros(N+1)\n",
    "    xa = np.zeros(N+1)\n",
    "    # set the first two values of the arrays:\n",
    "    ya[0] = y0\n",
    "    ya[1] = y1\n",
    "    xa[0] = x0\n",
    "    xa[1] = x0 + h\n",
    "    # integrate via the Numerov algo:\n",
    "    for n in range(1,N):\n",
    "        x = x0 + n*h\n",
    "        xa[n]=x\n",
    "        h2dt = h**2/12 # appears often so let's just calculate it once!\n",
    "        ya[n+1] = (2 * (1 - 5*h2dt * k2(x)) * ya[n] - (1 + h2dt *k2(x-h)) * ya[n-1] + h2dt*(S(x+h) + 10 * S(x) + S(x-h)))/((1 + h2dt * k2(x+h) ))    \n",
    "    xa[N] = xf # set the last x value which is not set in the loop\n",
    "    return xa,ya"
   ]
  },
  {
   "cell_type": "markdown",
   "id": "cb1b8dce-9cf5-49be-a01c-4361f40a31fa",
   "metadata": {},
   "source": [
    "We want use ```numerov``` to solve the equation in part (a) for some initial guess of the parameter $k$. Let us implement the solution below."
   ]
  },
  {
   "cell_type": "code",
   "execution_count": 15,
   "id": "bdf57144-5863-4bfc-a504-e671f65a2e3d",
   "metadata": {},
   "outputs": [],
   "source": [
    "def k2(k,r): # the function multiplying phi\n",
    "    return 1/4*r**(-2)+k**2\n",
    "def s(x): # the source function\n",
    "    return 0\n",
    "    \n",
    "def trial(k): # solves the equation in part (a) for a particular k, with initial conditions phi(1E-13)=1 and phi'(1E-13)=1, step size 1E-3, and propagates to 1\n",
    "    trl = Numerov(partial(k2,k),s,1,1,1E-3,1E-13,1) \n",
    "    return trl"
   ]
  },
  {
   "cell_type": "markdown",
   "id": "354530bd-6d3b-4cbd-bd8b-d5464ede15ad",
   "metadata": {},
   "source": [
    "The idea is to treat the value of the value of the solution to part (a) at the boundary of the cylinder as a function of $k$, and to then use a simple root finder to deduce the eigenvalues. This is done below."
   ]
  },
  {
   "cell_type": "code",
   "execution_count": 16,
   "id": "178ce65f-7bc0-4d96-8067-1bd29840b77c",
   "metadata": {},
   "outputs": [
    {
     "name": "stdout",
     "output_type": "stream",
     "text": [
      "Eigenvalue 1 : 2.657606705605394\n",
      "Eigenvalue 2 : 5.814967488304065\n",
      "Eigenvalue 3 : 8.976839209493946\n",
      "Eigenvalue 4 : 11.0\n"
     ]
    }
   ],
   "source": [
    "def phi1(k): # returns the Numerov solution at r=1\n",
    "    return trial(k)[1][-1]\n",
    "\n",
    "aList = [2,5,8,11] # list of bisection left enpoints\n",
    "bList = [3,6,9,11] # list of bisection right endpoints\n",
    "\n",
    "for i in range(len(aList)): \n",
    "        root = bisect(phi1,aList[i],bList[i],1E-2,1000) # func,a,b,prec,N\n",
    "        print(\"Eigenvalue\", i+1, \":\", root)"
   ]
  }
 ],
 "metadata": {
  "kernelspec": {
   "display_name": "Python 3 (ipykernel)",
   "language": "python",
   "name": "python3"
  },
  "language_info": {
   "codemirror_mode": {
    "name": "ipython",
    "version": 3
   },
   "file_extension": ".py",
   "mimetype": "text/x-python",
   "name": "python",
   "nbconvert_exporter": "python",
   "pygments_lexer": "ipython3",
   "version": "3.10.12"
  }
 },
 "nbformat": 4,
 "nbformat_minor": 5
}
