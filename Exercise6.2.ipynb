{
 "cells": [
  {
   "cell_type": "markdown",
   "id": "e48000a4-bfb2-4f29-b9ad-07f9c8084759",
   "metadata": {},
   "source": [
    "# Exercise 6.2: Two masses connected by strings. \n",
    "\n",
    "Two masses 1 and 2, of  weights $W_1, W_2$, respectively, are hung from three pieces of string with lengths $L_1, L_2, L_3$ and a horizontal bar of length $L$. \n",
    "\n",
    "Using $N$-dimensional Newton-Raphson searching, find the angles $\\theta_1$, $\\theta_2$ \n",
    "and $\\theta_3$ and the tensions exerted by the strings $T_1$, $T_2$, $T_3$. \n",
    "\n",
    "Use the values: $W_1 = 10$ N, $W_2 = 20$ N, $(L_1, L_2, L_3)=(3,4,4)$ m and $L=8$ m. \n"
   ]
  },
  {
   "cell_type": "markdown",
   "id": "6cb92b19-a8be-4a8a-8351-efa8566651af",
   "metadata": {},
   "source": [
    "## Solution\n",
    "\n",
    "We begin by implementing a function that approximates the partial derivative of a function. This is achieved using the function ```partiald```, which takes as inputs the function to be differentiated, the point at which the derivative is evaluated, the direction in which we are differentiating, and the step size for a central difference derivative."
   ]
  },
  {
   "cell_type": "code",
   "execution_count": 16,
   "id": "1718bd51-fb56-4cd0-8c2c-fa3fbe42a801",
   "metadata": {
    "tags": []
   },
   "outputs": [],
   "source": [
    "import numpy as np\n",
    "from numpy import linalg\n",
    "\n",
    "def partiald(func,a,i,h): # approximates the partial derivaitve of func wrt coordinate i at point a with step size h\n",
    "    \n",
    "    dx = [] # variation in the ith coordinate\n",
    "    for xi in range(len(a)): # defines the increment in the function input: a vector with h in the ith coordinate and zeros everywhere else\n",
    "        if xi == i:\n",
    "            dx.append(h)\n",
    "        else:\n",
    "            dx.append(0)\n",
    "    \n",
    "    df = (func(np.array(a)+np.array(dx)/2)-func(np.array(a)-np.array(dx)/2)) # the increment is f(x) as a result of dx\n",
    "    return df/h # the partial \n",
    "\n",
    "def jacobian(func,a,h): # accepts a list func of component functions and returns the Jacobian at a\n",
    "    derivative = []\n",
    "    for j in range(len(a)):\n",
    "        row = []\n",
    "        for i in range(len(a)):\n",
    "            row.append(partiald(func[j],a,i,h))\n",
    "        derivative.append(row)\n",
    "    return derivative\n",
    "    "
   ]
  },
  {
   "cell_type": "code",
   "execution_count": 55,
   "id": "edfcafb9-3d11-4492-9aa2-aa1ebf8fe451",
   "metadata": {},
   "outputs": [],
   "source": [
    "weights = [10,20]\n",
    "lengths = [3,4,4,8] \n",
    "\n",
    "def f0(x):\n",
    "    return x[6]*x[0]-x[7]*x[1]-weights[0]\n",
    "def f1(x): \n",
    "    return x[6]*x[3]-x[7]*x[4]\n",
    "def f2(x):\n",
    "    return x[7]*x[1]+x[8]*x[2]-weights[1]\n",
    "def f3(x):\n",
    "    return x[7]*x[4]-x[8]*x[5]\n",
    "def f4(x):\n",
    "    return lengths[0]-x[3]+lengths[1]*x[4]+lengths[2]*x[5]-lengths[3]\n",
    "def f5(x):\n",
    "    return lengths[0]*x[0]+lengths[1]*x[1]-lengths[2]*x[2]\n",
    "def f6(x):\n",
    "    return x[0]**2+x[3]**2\n",
    "def f7(x):\n",
    "    return x[1]**2+x[4]**2\n",
    "def f8(x):\n",
    "    return x[2]**2+x[5]**2\n",
    "\n",
    "def f(x):\n",
    "    return np.array([f0(x),f1(x),f2(x),f3(x),f4(x),f5(x),f6(x),f7(x),f8(x)])\n"
   ]
  },
  {
   "cell_type": "code",
   "execution_count": 56,
   "id": "56ab1eb5-1f2b-43e6-b838-42723154563a",
   "metadata": {
    "tags": []
   },
   "outputs": [],
   "source": [
    "def newton(func,x0,h,prec,N,nUpdate):\n",
    "    a = x0 # sets the initial guess of the root to x0\n",
    "    count = 0 # the number of root searches\n",
    "    \n",
    "    precCheck = []\n",
    "    for i in range(len(x0)):\n",
    "        precCheck.append(0) # fills a list with zeros for a check of the precision\n",
    "    precGoal = []\n",
    "    for i in range(len(x0)):\n",
    "        precGoal.append(1) # loop ends once precCheck is filled with ones\n",
    "        \n",
    "    while precCheck != precGoal and count < N:\n",
    "        dx = linalg.solve[jacobian(func,a,h),func] # the correction to the root\n",
    "        a = x0 + dx\n",
    "        \n",
    "        for i in range(len(x0)): # if the ith value of func is within prec of zero, then the ith entry of precCheck is set to 1\n",
    "            if func(a)[i] < prec and count%nUpdate == 0:\n",
    "                precCheck[i] = 1\n",
    "                \n",
    "        count = count + 1\n",
    "        \n",
    "    return(a)"
   ]
  },
  {
   "cell_type": "code",
   "execution_count": 57,
   "id": "0d2c4f35-7109-4d93-9114-3936b27ad225",
   "metadata": {
    "tags": []
   },
   "outputs": [
    {
     "ename": "TypeError",
     "evalue": "'function' object is not subscriptable",
     "output_type": "error",
     "traceback": [
      "\u001b[0;31m---------------------------------------------------------------------------\u001b[0m",
      "\u001b[0;31mTypeError\u001b[0m                                 Traceback (most recent call last)",
      "Cell \u001b[0;32mIn[57], line 3\u001b[0m\n\u001b[1;32m      1\u001b[0m sqrt2 \u001b[38;5;241m=\u001b[39m \u001b[38;5;241m1\u001b[39m\u001b[38;5;241m/\u001b[39mnp\u001b[38;5;241m.\u001b[39msqrt(\u001b[38;5;241m2\u001b[39m)\n\u001b[1;32m      2\u001b[0m a \u001b[38;5;241m=\u001b[39m np\u001b[38;5;241m.\u001b[39marray([sqrt2,sqrt2,sqrt2,sqrt2,sqrt2,sqrt2,\u001b[38;5;241m1\u001b[39m,\u001b[38;5;241m1\u001b[39m,\u001b[38;5;241m1\u001b[39m])\n\u001b[0;32m----> 3\u001b[0m \u001b[43mnewton\u001b[49m\u001b[43m(\u001b[49m\u001b[43mf\u001b[49m\u001b[43m,\u001b[49m\u001b[43ma\u001b[49m\u001b[43m,\u001b[49m\u001b[38;5;241;43m1E-5\u001b[39;49m\u001b[43m,\u001b[49m\u001b[38;5;241;43m1E-5\u001b[39;49m\u001b[43m,\u001b[49m\u001b[38;5;241;43m100000\u001b[39;49m\u001b[43m,\u001b[49m\u001b[38;5;241;43m10\u001b[39;49m\u001b[43m)\u001b[49m\n",
      "Cell \u001b[0;32mIn[56], line 13\u001b[0m, in \u001b[0;36mnewton\u001b[0;34m(func, x0, h, prec, N, nUpdate)\u001b[0m\n\u001b[1;32m     10\u001b[0m     precGoal\u001b[38;5;241m.\u001b[39mappend(\u001b[38;5;241m1\u001b[39m) \u001b[38;5;66;03m# loop ends once precCheck is filled with ones\u001b[39;00m\n\u001b[1;32m     12\u001b[0m \u001b[38;5;28;01mwhile\u001b[39;00m precCheck \u001b[38;5;241m!=\u001b[39m precGoal \u001b[38;5;129;01mand\u001b[39;00m count \u001b[38;5;241m<\u001b[39m N:\n\u001b[0;32m---> 13\u001b[0m     dx \u001b[38;5;241m=\u001b[39m linalg\u001b[38;5;241m.\u001b[39msolve[\u001b[43mjacobian\u001b[49m\u001b[43m(\u001b[49m\u001b[43mfunc\u001b[49m\u001b[43m,\u001b[49m\u001b[43ma\u001b[49m\u001b[43m,\u001b[49m\u001b[43mh\u001b[49m\u001b[43m)\u001b[49m,func] \u001b[38;5;66;03m# the correction to the root\u001b[39;00m\n\u001b[1;32m     14\u001b[0m     a \u001b[38;5;241m=\u001b[39m x0 \u001b[38;5;241m+\u001b[39m dx\n\u001b[1;32m     16\u001b[0m     \u001b[38;5;28;01mfor\u001b[39;00m i \u001b[38;5;129;01min\u001b[39;00m \u001b[38;5;28mrange\u001b[39m(\u001b[38;5;28mlen\u001b[39m(x0)): \u001b[38;5;66;03m# if the ith value of func is within prec of zero, then the ith entry of precCheck is set to 1\u001b[39;00m\n",
      "Cell \u001b[0;32mIn[16], line 21\u001b[0m, in \u001b[0;36mjacobian\u001b[0;34m(func, a, h)\u001b[0m\n\u001b[1;32m     19\u001b[0m     row \u001b[38;5;241m=\u001b[39m []\n\u001b[1;32m     20\u001b[0m     \u001b[38;5;28;01mfor\u001b[39;00m i \u001b[38;5;129;01min\u001b[39;00m \u001b[38;5;28mrange\u001b[39m(\u001b[38;5;28mlen\u001b[39m(a)):\n\u001b[0;32m---> 21\u001b[0m         row\u001b[38;5;241m.\u001b[39mappend(partiald(\u001b[43mfunc\u001b[49m\u001b[43m[\u001b[49m\u001b[43mj\u001b[49m\u001b[43m]\u001b[49m,a,i,h))\n\u001b[1;32m     22\u001b[0m     derivative\u001b[38;5;241m.\u001b[39mappend(row)\n\u001b[1;32m     23\u001b[0m \u001b[38;5;28;01mreturn\u001b[39;00m derivative\n",
      "\u001b[0;31mTypeError\u001b[0m: 'function' object is not subscriptable"
     ]
    }
   ],
   "source": [
    "sqrt2 = 1/np.sqrt(2)\n",
    "a = np.array([sqrt2,sqrt2,sqrt2,sqrt2,sqrt2,sqrt2,1,1,1])\n",
    "newton(f,a,1E-5,1E-5,100000,10)"
   ]
  },
  {
   "cell_type": "code",
   "execution_count": null,
   "id": "3a6db2f1-ed6e-4f20-8663-6266d407e360",
   "metadata": {},
   "outputs": [],
   "source": []
  }
 ],
 "metadata": {
  "kernelspec": {
   "display_name": "Python 3 (ipykernel)",
   "language": "python",
   "name": "python3"
  },
  "language_info": {
   "codemirror_mode": {
    "name": "ipython",
    "version": 3
   },
   "file_extension": ".py",
   "mimetype": "text/x-python",
   "name": "python",
   "nbconvert_exporter": "python",
   "pygments_lexer": "ipython3",
   "version": "3.11.8"
  }
 },
 "nbformat": 4,
 "nbformat_minor": 5
}
