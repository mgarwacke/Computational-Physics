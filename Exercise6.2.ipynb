{
 "cells": [
  {
   "cell_type": "markdown",
   "id": "e48000a4-bfb2-4f29-b9ad-07f9c8084759",
   "metadata": {},
   "source": [
    "# Exercise 6.2: Two masses connected by strings. \n",
    "\n",
    "Two masses 1 and 2, of  weights $W_1, W_2$, respectively, are hung from three pieces of string with lengths $L_1, L_2, L_3$ and a horizontal bar of length $L$. \n",
    "\n",
    "Using $N$-dimensional Newton-Raphson searching, find the angles $\\theta_1$, $\\theta_2$ \n",
    "and $\\theta_3$ and the tensions exerted by the strings $T_1$, $T_2$, $T_3$. \n",
    "\n",
    "Use the values: $W_1 = 10$ N, $W_2 = 20$ N, $(L_1, L_2, L_3)=(3,4,4)$ m and $L=8$ m. \n"
   ]
  },
  {
   "cell_type": "markdown",
   "id": "6cb92b19-a8be-4a8a-8351-efa8566651af",
   "metadata": {},
   "source": [
    "## Solution\n",
    "\n",
    "We begin by implementing a function that approximates the partial derivative of a function. This is achieved using the function ```partiald```, which takes as inputs the function to be differentiated, the point at which the derivative is evaluated, the direction in which we are differentiating, and the step size for a central difference derivative."
   ]
  },
  {
   "cell_type": "code",
   "execution_count": 67,
   "id": "1718bd51-fb56-4cd0-8c2c-fa3fbe42a801",
   "metadata": {
    "tags": []
   },
   "outputs": [],
   "source": [
    "import numpy as np\n",
    "\n",
    "def partiald(func,a,i,h): # approximates the partial derivaitve of func wrt coordinate i at point a with step size h\n",
    "    \n",
    "    dx = [] # variation in the ith coordinate\n",
    "    for xi in range(len(a)): # defines the increment in the function input: a vector with h in the ith coordinate and zeros everywhere else\n",
    "        if xi == i:\n",
    "            dx.append(h)\n",
    "        else:\n",
    "            dx.append(0)\n",
    "    \n",
    "    df = (func(np.array(a)+np.array(dx)/2)-func(np.array(a)-np.array(dx)/2)) # the increment is f(x) as a result of dx\n",
    "    return df/h # the partial \n",
    "\n",
    "def jacobian(func,a,h):\n",
    "    derivative = []\n",
    "    for j in range(len(a)):\n",
    "        row = []\n",
    "        for i in range(len(a)):\n",
    "            row.append(partiald(func[j],a,i,h))\n",
    "        derivative.append(row)\n",
    "    return derivative\n",
    "    "
   ]
  },
  {
   "cell_type": "code",
   "execution_count": 76,
   "id": "0f24ec5a-5bc5-4fb7-b5f1-fbdc070b871f",
   "metadata": {
    "tags": []
   },
   "outputs": [
    {
     "data": {
      "text/plain": [
       "[[1.000000000139778, 1.000000000139778, 1.000000000139778],\n",
       " [1.9999999977926561, 3.999999998427483, 25.99999999972624],\n",
       " [3.0000000151630952, 11.99999996970291, 507.00000001597795]]"
      ]
     },
     "execution_count": 76,
     "metadata": {},
     "output_type": "execute_result"
    }
   ],
   "source": [
    "def f0(x):\n",
    "    return x[0]+x[1]+x[2]\n",
    "def f1(x):\n",
    "    return x[0]**2+x[1]**2+x[2]**2\n",
    "def f2(x):\n",
    "    return x[0]**3+x[1]**3+x[2]**3\n",
    "    \n",
    "f = np.array([f0,f1,f2])\n",
    "a = np.array([1,2,13])\n",
    "jacobian(f,a,1E-5)"
   ]
  },
  {
   "cell_type": "code",
   "execution_count": null,
   "id": "edfcafb9-3d11-4492-9aa2-aa1ebf8fe451",
   "metadata": {},
   "outputs": [],
   "source": []
  }
 ],
 "metadata": {
  "kernelspec": {
   "display_name": "Python 3 (ipykernel)",
   "language": "python",
   "name": "python3"
  },
  "language_info": {
   "codemirror_mode": {
    "name": "ipython",
    "version": 3
   },
   "file_extension": ".py",
   "mimetype": "text/x-python",
   "name": "python",
   "nbconvert_exporter": "python",
   "pygments_lexer": "ipython3",
   "version": "3.11.8"
  }
 },
 "nbformat": 4,
 "nbformat_minor": 5
}
