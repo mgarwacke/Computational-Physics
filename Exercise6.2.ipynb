{
 "cells": [
  {
   "cell_type": "markdown",
   "id": "e48000a4-bfb2-4f29-b9ad-07f9c8084759",
   "metadata": {
    "tags": []
   },
   "source": [
    "# Exercise 6.2: Two masses connected by strings. \n",
    "\n",
    "Two masses 1 and 2, of  weights $W_1, W_2$, respectively, are hung from three pieces of string with lengths $L_1, L_2, L_3$ and a horizontal bar of length $L$. \n",
    "\n",
    "Using $N$-dimensional Newton-Raphson searching, find the angles $\\theta_1$, $\\theta_2$ \n",
    "and $\\theta_3$ and the tensions exerted by the strings $T_1$, $T_2$, $T_3$. \n",
    "\n",
    "Use the values: $W_1 = 10$ N, $W_2 = 20$ N, $(L_1, L_2, L_3)=(3,4,4)$ m and $L=8$ m. \n"
   ]
  },
  {
   "cell_type": "markdown",
   "id": "6cb92b19-a8be-4a8a-8351-efa8566651af",
   "metadata": {},
   "source": [
    "## Solution\n",
    "\n",
    "We begin by implementing a function that approximates the partial derivative of a function. This is achieved using the function ```partiald```, which takes as inputs a list of component functions to be differentiated, the point at which the derivative is evaluated, the direction in which we are differentiating, and the step size for a central difference derivative."
   ]
  },
  {
   "cell_type": "code",
   "execution_count": 6,
   "id": "1718bd51-fb56-4cd0-8c2c-fa3fbe42a801",
   "metadata": {
    "tags": []
   },
   "outputs": [],
   "source": [
    "import numpy as np\n",
    "from numpy import linalg\n",
    "\n",
    "def partiald(func,a,i,h): # approximates the partial derivaitve of func wrt coordinate i at point a with step size h\n",
    "    \n",
    "    dx = [] # variation in the ith coordinate\n",
    "    for xi in range(len(a)): # defines the increment in the function input: a vector with h in the ith coordinate and zeros everywhere else\n",
    "        if xi == i:\n",
    "            dx.append(h)\n",
    "        else:\n",
    "            dx.append(0)\n",
    "    \n",
    "    df = (func(np.array(a)+np.array(dx)/2)-func(np.array(a)-np.array(dx)/2)) # the increment is f(x) as a result of dx\n",
    "    return df/h # the partial \n",
    "\n",
    "def jacobian(func,a,h): # accepts a list func of component functions and returns the Jacobian at a\n",
    "    derivative = []\n",
    "    for j in range(len(a)):\n",
    "        row = []\n",
    "        for i in range(len(a)):\n",
    "            row.append(partiald(func[j],a,i,h))\n",
    "        derivative.append(row)\n",
    "    return derivative\n",
    "    "
   ]
  },
  {
   "cell_type": "markdown",
   "id": "29f8ea51-7053-4072-a1aa-3088673226c2",
   "metadata": {},
   "source": [
    "Below are the constraints involved in this mechanical system."
   ]
  },
  {
   "cell_type": "code",
   "execution_count": 7,
   "id": "edfcafb9-3d11-4492-9aa2-aa1ebf8fe451",
   "metadata": {
    "tags": []
   },
   "outputs": [],
   "source": [
    "weights = [10,20] # the weights [W1,W2,W3]\n",
    "lengths = [3,4,4,8] # the lengths [L1,L2,L3,L]\n",
    "\n",
    "# the implementation of the constraints\n",
    "def f0(x):\n",
    "    return x[6]*x[0]-x[7]*x[1]-weights[0]\n",
    "def f1(x): \n",
    "    return x[6]*x[3]-x[7]*x[4]\n",
    "def f2(x):\n",
    "    return x[7]*x[1]+x[8]*x[2]-weights[1]\n",
    "def f3(x):\n",
    "    return x[7]*x[4]-x[8]*x[5]\n",
    "def f4(x):\n",
    "    return lengths[0]*x[3]+lengths[1]*x[4]+lengths[2]*x[5]-lengths[3]\n",
    "def f5(x):\n",
    "    return lengths[0]*x[0]+lengths[1]*x[1]-lengths[2]*x[2]\n",
    "def f6(x):\n",
    "    return x[0]**2+x[3]**2-1\n",
    "def f7(x):\n",
    "    return x[1]**2+x[4]**2-1\n",
    "def f8(x):\n",
    "    return x[2]**2+x[5]**2-1\n",
    "\n",
    "f = [f0,f1,f2,f3,f4,f5,f6,f7,f8]\n"
   ]
  },
  {
   "cell_type": "markdown",
   "id": "171d74a1-2768-456b-a0a9-01b94c96ac5a",
   "metadata": {},
   "source": [
    "Now we implement the multidimensional Newton-Raphson method. This is mostly as simple as applying ```linalg.solve``` to the Jacobian code we already wrote, all that remains is figuring out how to get the precision we want. \n",
    "\n",
    "I begin by filling a list ```precCheck``` with zeros, one for each dimension of the input space. This list represents the fact that none of the points within our initial guess are (likely) within ```prec``` of 0 when evaluated. After each iteration of Newton-Raphson searching, the program checks if each coordinate evaluates to within ```prec``` of zero, and sets the corresponding entry of ```precCheck``` to one. The iterations continue until ```preckCheck``` is filled with ones.\n",
    "\n",
    "After I wrote this code, I learned that there is a list method ```a.all()``` that would have done this automatically for me."
   ]
  },
  {
   "cell_type": "code",
   "execution_count": 8,
   "id": "56ab1eb5-1f2b-43e6-b838-42723154563a",
   "metadata": {
    "tags": []
   },
   "outputs": [],
   "source": [
    "def newton(func,x0,h,prec,N): # a multidimensional Newton-Raphson root finder\n",
    "    \"\"\"Finds a root to precision prec of a list of functions func using a multidimensional \n",
    "    Newton-Raphson method with initial guess x0. Derivatives are calculated using a central \n",
    "    difference with step size h. The function runs through N iteration of Newton-Raphson \n",
    "    searching\"\"\"\n",
    "    a = x0 # sets the initial guess of the root to x0\n",
    "    count = 0 # the number of root searches\n",
    "    \n",
    "    precCheck = []\n",
    "    for i in range(len(x0)):\n",
    "        precCheck.append(0) # fills a list with zeros for a check of the precision\n",
    "    precGoal = []\n",
    "    for i in range(len(x0)):\n",
    "        precGoal.append(1) # loop ends once precCheck is filled with ones\n",
    "        \n",
    "    while precCheck != precGoal and count < N:\n",
    "        funca = []\n",
    "        for i in range(len(func)):\n",
    "            funca.append(-func[i](a))\n",
    "        \n",
    "        dx = linalg.solve(jacobian(func,a,h),funca) # the correction to the root\n",
    "        a = a + dx\n",
    "        \n",
    "        for i in range(len(x0)): # if the ith value of func is within prec of zero, then the ith entry of precCheck is set to 1\n",
    "            if abs(func[i](a)) < prec:\n",
    "                precCheck[i] = 1\n",
    "                \n",
    "        count = count + 1\n",
    "        \n",
    "    return(a,count) # returns the solution and the number of iterations"
   ]
  },
  {
   "cell_type": "markdown",
   "id": "b5e2fe97-1444-4f01-838b-a3ae56499f4e",
   "metadata": {},
   "source": [
    "Here we simply plug out constraints into ```NewtonRaphson```. I use $1/\\sqrt{2}$ as a guess for all the angular variables, as the angles are probably between 0 and $\\pi/2$. I chose 1 for the tensions for no particular reason.\n",
    "\n",
    "The variables are given in the order $(\\sin{\\theta_1},\\sin{\\theta_2},\\sin{\\theta_3},\\cos{\\theta_1},\\cos{\\theta_2},\\cos{\\theta_3},T_1,T_2,T_3)$"
   ]
  },
  {
   "cell_type": "code",
   "execution_count": 10,
   "id": "0d2c4f35-7109-4d93-9114-3936b27ad225",
   "metadata": {
    "tags": []
   },
   "outputs": [
    {
     "name": "stdout",
     "output_type": "stream",
     "text": [
      "(array([ 0.76100269,  0.26495381,  0.83570583,  0.64874872,  0.9642611 ,\n",
      "        0.54917735, 17.16020978, 11.54527968, 20.27152804]), 8)\n"
     ]
    }
   ],
   "source": [
    "ang = 1/np.sqrt(2)\n",
    "a = np.array([ang,ang,ang,ang,ang,ang,1,1,1])\n",
    "\n",
    "solution = newton(f,a,1E-5,1E-5,10000)\n",
    "print(solution)"
   ]
  },
  {
   "cell_type": "markdown",
   "id": "bed78cf3-82a1-4fd7-bea9-ff294c17a166",
   "metadata": {},
   "source": [
    "Now we simply use ```np.arcsin()``` to extract the angles."
   ]
  },
  {
   "cell_type": "code",
   "execution_count": 18,
   "id": "34f3f7fa-6634-4c2d-84dc-619071db8b9b",
   "metadata": {
    "tags": []
   },
   "outputs": [
    {
     "name": "stdout",
     "output_type": "stream",
     "text": [
      "theta1 = 0.865\n",
      "theta2 = 0.268\n",
      "theta3 = 0.989\n",
      "T1 = 17.16\n",
      "T2 = 11.545\n",
      "T3 = 20.272\n"
     ]
    }
   ],
   "source": [
    "names = [\"theta1\",\"theta2\",\"theta3\",\"T1\",\"T2\",\"T3\"]\n",
    "\n",
    "values = [0,0,0,0,0,0]\n",
    "for i in range(3):\n",
    "    values[i] = np.arcsin(solution[0][i])\n",
    "    values[i+3] = solution[0][6+i]\n",
    "    \n",
    "for i in range(len(names)):\n",
    "    print(names[i]+\" =\",round(values[i],3))"
   ]
  },
  {
   "cell_type": "code",
   "execution_count": null,
   "id": "63dcd27d-1cb1-49d5-933b-b7514310eae0",
   "metadata": {},
   "outputs": [],
   "source": []
  }
 ],
 "metadata": {
  "kernelspec": {
   "display_name": "Python 3 (ipykernel)",
   "language": "python",
   "name": "python3"
  },
  "language_info": {
   "codemirror_mode": {
    "name": "ipython",
    "version": 3
   },
   "file_extension": ".py",
   "mimetype": "text/x-python",
   "name": "python",
   "nbconvert_exporter": "python",
   "pygments_lexer": "ipython3",
   "version": "3.11.8"
  }
 },
 "nbformat": 4,
 "nbformat_minor": 5
}
